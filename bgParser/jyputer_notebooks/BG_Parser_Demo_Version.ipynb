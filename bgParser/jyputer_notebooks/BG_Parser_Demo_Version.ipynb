{
 "cells": [
  {
   "cell_type": "code",
   "execution_count": 1,
   "metadata": {},
   "outputs": [
    {
     "name": "stderr",
     "output_type": "stream",
     "text": [
      "C:\\ProgramData\\Anaconda3\\lib\\site-packages\\requests\\__init__.py:89: RequestsDependencyWarning: urllib3 (1.26.14) or chardet (3.0.4) doesn't match a supported version!\n",
      "  warnings.warn(\"urllib3 ({}) or chardet ({}) doesn't match a supported \"\n"
     ]
    }
   ],
   "source": [
    "from selenium import webdriver\n",
    "from selenium.webdriver.chrome.options import Options\n",
    "from selenium.webdriver.common.by import By\n",
    "from selenium.common.exceptions import TimeoutException, NoSuchElementException, ElementClickInterceptedException, ElementNotInteractableException, StaleElementReferenceException\n",
    "from selenium.webdriver.support.ui import WebDriverWait\n",
    "from selenium.webdriver.support import expected_conditions as EC\n",
    "from selenium.webdriver.common.keys import Keys\n",
    "from selenium.webdriver.common.action_chains import ActionChains\n",
    "from webdriver_manager.chrome import ChromeDriverManager\n",
    "from selenium.webdriver.chrome.service import Service as ChromiumService\n",
    "\n",
    "from pandas import DataFrame, read_html, concat, ExcelFile, ExcelWriter, Series\n",
    "from pandas import isna as pd_isna\n",
    "from pandas import merge as pd_merge\n",
    "from math import isnan as math_isnan\n",
    "\n",
    "from random import uniform as random_uniform\n",
    "# from random import randint as random_randint\n",
    "from time import sleep as time_sleep\n",
    "\n",
    "from datetime import datetime as dt\n",
    "\n",
    "from win32clipboard import OpenClipboard, EmptyClipboard, SetClipboardText, CF_UNICODETEXT, CloseClipboard\n",
    "from pyautogui import hotkey as pyt_hotkey\n",
    "\n",
    "from re import findall as re_findall\n",
    "from re import search as re_search\n",
    "\n",
    "from tqdm.notebook import tqdm\n",
    "\n",
    "from shutil import copyfile as shutil_copyfile"
   ]
  },
  {
   "cell_type": "markdown",
   "metadata": {},
   "source": [
    "ФУНКЦИИ"
   ]
  },
  {
   "cell_type": "code",
   "execution_count": 2,
   "metadata": {},
   "outputs": [],
   "source": [
    "def random_sleep(upper_bound:int, lower_bound=0):\n",
    "    random_digit_parse = random_uniform(lower_bound, upper_bound)\n",
    "    time_sleep(random_digit_parse)"
   ]
  },
  {
   "cell_type": "code",
   "execution_count": 3,
   "metadata": {},
   "outputs": [],
   "source": [
    "def get_browser(browser_full_path: str,\n",
    "                driver_full_path: str,\n",
    "                wait_secs: int=10):\n",
    "    # готовый к работе веб-драйвер возращается методом класса\n",
    "    options = webdriver.ChromeOptions()\n",
    "    ###\n",
    "    options.add_argument(r\"--user-data=C:\\Users\\tabakaev_mv\\AppData\\Local\\Yandex\\YandexBrowser\\User Data\\Default\")\n",
    "    ###\n",
    "    options.binary_location = browser_full_path\n",
    "    options.add_argument(\"--disable-notifications\")\n",
    "    options.add_argument(\"--disable-web-security\")\n",
    "    options.add_argument(\"--start-maximized\")\n",
    "    options.add_argument(\"--no-sandbox\")\n",
    "    driver = webdriver.Chrome(executable_path=driver_full_path,\n",
    "                              options=options)\n",
    "    driver.implicitly_wait(wait_secs)\n",
    "    return driver"
   ]
  },
  {
   "cell_type": "code",
   "execution_count": 4,
   "metadata": {},
   "outputs": [],
   "source": [
    "def close_browser(driver):\n",
    "    input('После нажатия клавиши браузер будет закрыт!')\n",
    "    try:\n",
    "        driver.close()\n",
    "        print('Инициализация закрытия Selenium-браузера прошла успешно!')\n",
    "    except:\n",
    "        print('Ошибка закрытия Selenium-браузера')"
   ]
  },
  {
   "cell_type": "code",
   "execution_count": 5,
   "metadata": {},
   "outputs": [],
   "source": [
    "def delete_nan_rows(df: DataFrame):\n",
    "    # НАЧАЛО ФУНКЦИИ ---//---\n",
    "    # НЕОБХОДИМО УЗНАТЬ КОЛИЧЕСТВО СТРОК СО ВСЕМИ ПРОПУЩЕННЫМИ ЗНАЧЕНИЯМИ (по всем колонкам)!!!\n",
    "    idx = list(df.index[df.isnull().all(1)])\n",
    "    print(idx)\n",
    "    if idx:\n",
    "        # кол-во удаляемых строк, а не одна строка!!!\n",
    "        print(f'Необходимо удалить <{len(idx)}> строк ДФ!')\n",
    "    print()\n",
    "    print(f'Размерность ДФ ДО УДАЛЕНИЯ i строк: <{df.shape}>')\n",
    "    print()\n",
    "    # reset index???\n",
    "    df.drop(idx,inplace=True)\n",
    "    df.reset_index(drop=True, inplace=True)\n",
    "    print(f'Размерность ДФ ПОСЛЕ УДАЛЕНИЯ i строк: <{df.shape}>')\n",
    "    return(df)\n",
    "    # КОНЕЦ ФУНКЦИИ ---//---"
   ]
  },
  {
   "cell_type": "code",
   "execution_count": 6,
   "metadata": {},
   "outputs": [],
   "source": [
    "def parse_part_df(driver,\n",
    "                  df_page_index:int=1,\n",
    "                  df_colnames_page_index:int=0,\n",
    "                  need_delete_nans:bool=True):\n",
    "    # парсим таблицу со всем перечнем заявлений на получение ЭЛМК!!!\n",
    "    # в переключателе выводить макисмальное количество строк по ЭЛМК!!!\n",
    "    # подождать пока все строки прогрузятся!!!\n",
    "    page_content_list = read_html(driver.page_source)\n",
    "    df = DataFrame(page_content_list[df_page_index])\n",
    "    df_colnames = list(DataFrame(page_content_list[df_colnames_page_index]))\n",
    "    df.columns = df_colnames\n",
    "    if need_delete_nans:\n",
    "        df = delete_nan_rows(df=df)\n",
    "    return(df, df.shape[0])"
   ]
  },
  {
   "cell_type": "code",
   "execution_count": 7,
   "metadata": {},
   "outputs": [],
   "source": [
    "def get_element_title(driver, xpath, timeout = 15):\n",
    "        try:\n",
    "            element_present = EC.presence_of_element_located((By.XPATH, xpath))\n",
    "            WebDriverWait(driver, timeout).until(element_present)\n",
    "        except TimeoutException:\n",
    "            print(\"Timed out waiting for page to load\")\n",
    "            return\n",
    "        found_element = driver.find_element(By.XPATH, xpath)\n",
    "        return(found_element.get_attribute('title'))"
   ]
  },
  {
   "cell_type": "code",
   "execution_count": 8,
   "metadata": {},
   "outputs": [],
   "source": [
    "def get_element_by_xpath(driver, xpath, timeout = 15):\n",
    "    try:\n",
    "        element_present = EC.presence_of_element_located((By.XPATH, xpath))\n",
    "        WebDriverWait(driver, timeout).until(element_present)\n",
    "    except TimeoutException:\n",
    "        print(\"Timed out waiting for page to load\")\n",
    "        return\n",
    "    found_element = driver.find_element(By.XPATH, xpath)\n",
    "    return found_element"
   ]
  },
  {
   "cell_type": "code",
   "execution_count": 14,
   "metadata": {},
   "outputs": [],
   "source": [
    "def get_element_text(driver,\n",
    "                     css_selector: str,\n",
    "                     timeout: int = 3):\n",
    "    # found_element = driver.find_element(By.CSS_SELECTOR, css_selector)\n",
    "    try:\n",
    "        element_present = EC.presence_of_element_located((By.CSS_SELECTOR, css_selector))\n",
    "        WebDriverWait(driver, timeout).until(element_present)\n",
    "    except TimeoutException or NoSuchElementException:\n",
    "        print(\"Timed out waiting for page to load\")\n",
    "        return \"\"\n",
    "    found_element = driver.find_element(By.CSS_SELECTOR, css_selector)\n",
    "    found_elem_text = found_element.text\n",
    "    return found_elem_text"
   ]
  },
  {
   "cell_type": "code",
   "execution_count": 15,
   "metadata": {},
   "outputs": [],
   "source": [
    "def get_bg_content(driver, css_selector_info: dict):\n",
    "    if type(css_selector_info) != dict:\n",
    "        raise ValueError(\"Неверный тип переданного аргумента <css_selector_info>!\")\n",
    "    [v.append(get_element_text(driver=driver, css_selector=v[0]))\n",
    "     for (k,v) in css_selector_info.items()]\n",
    "    return css_selector_info"
   ]
  },
  {
   "cell_type": "code",
   "execution_count": 43,
   "metadata": {},
   "outputs": [],
   "source": [
    "css_selectors = {\n",
    "    \"bg_name\": [\".product-title h1\"],\n",
    "    \"bg_round_duration\": [\".product-resume .time p span\"],\n",
    "    \"bg_players\": [\".product-resume .players p span\"],\n",
    "    \"bg_recommended_age\": [\".product-resume .age p span\"],\n",
    "    \"bg_languague\": [\".product-resume .lang p span\"],\n",
    "    \"bg_brand\": [\".product-resume .manufacturer p span\"],\n",
    "    \"bg_range\": [\".product-resume .range p\"],\n",
    "    \"bg_complect\": [\".complect .lists ul ul\"],\n",
    "    # \"bg_about\": [\".left-content .product-block .about full-height\"],\n",
    "    \"bg_about\": [\".left-content section div\"],\n",
    "    \"bg_price\": [\".right-content section div span\"],\n",
    "    # \"bg_price\": [\".right-content .buy .flip-front flip-front--price-block .price\"],\n",
    "    \"href_to_original\": [\".labels-big\"],\n",
    "    \"href_rules\": [\".rules .document a[href$='.pdf']\"],\n",
    "    \"bg_tags\": [\".tags p\"],\n",
    "    \"page_content\": [\"html\"]\n",
    "}"
   ]
  },
  {
   "cell_type": "code",
   "execution_count": 44,
   "metadata": {},
   "outputs": [
    {
     "name": "stdout",
     "output_type": "stream",
     "text": [
      "Timed out waiting for page to load\n",
      "\n",
      "Wall time: 2min 31s\n"
     ]
    }
   ],
   "source": [
    "%%time\n",
    "start_html = \"https://hobbyworld.ru/kragmorta\"\n",
    "with webdriver.Chrome(service=ChromiumService(ChromeDriverManager().install())) as driver:\n",
    "    driver.get(start_html)\n",
    "    result = get_bg_content(driver=driver, css_selector_info=css_selectors)\n",
    "    input()"
   ]
  },
  {
   "cell_type": "code",
   "execution_count": 46,
   "metadata": {},
   "outputs": [
    {
     "name": "stdout",
     "output_type": "stream",
     "text": [
      "('bg_name', ['.product-title h1', 'Крагморта'])\n",
      "('bg_round_duration', ['.product-resume .time p span', 'от 20 до 40 минут'])\n",
      "('bg_players', ['.product-resume .players p span', '2-8 человек'])\n",
      "('bg_recommended_age', ['.product-resume .age p span', '8 лет и старше'])\n",
      "('bg_languague', ['.product-resume .lang p span', 'Русский'])\n",
      "('bg_brand', ['.product-resume .manufacturer p span', 'Hobby World'])\n",
      "('bg_range', ['.product-resume .range p', ''])\n",
      "('bg_complect', ['.complect .lists ul ul', 'Сам Ригор Мортис, Грандиозный и Устрашающий Архимаг – 1 персона\\n1 Библиотека Ригора Мортиса\\n1 рабочий стол\\n8 Гоблинов разных цветов\\n8 жетонов Гоблинов разных цветов\\n6 жетонов Телепортов\\n6 книжных полок\\n24 карты Испепеляющего Взора\\n58 карт Движения\\n18 карт Книг Магии\\nПравила игры\\n  Размер коробки: 277х194х67 мм\\nРазмер карт: 63x88 мм '])\n",
      "('bg_about', ['.left-content section div', 'Крагморта'])\n",
      "('bg_price', ['.right-content section div span', '1 490 руб.'])\n",
      "('href_to_original', ['.labels-big', ''])\n",
      "('href_rules', [\".rules .document a[href$='.pdf']\", 'Правила игры \"Крагморта\"'])\n",
      "('bg_tags', ['.tags p', 'Для детей от 6 до 10 летЛучшие настольные игры-страшилкиИгры в дорогуСемейные игрыНастольные игры для всей семьиНастольные игры с кубиками и фишками'])\n",
      "('page_content', ['html', 'КАТАЛОГ ИГР\\nВсе 1338 Настольные 853 ККИ 57 Аксессуары и книги 135 Сувениры 8 НРИ 11 HABA 15\\nИЗДАТЕЛЬСТВО\\nГДЕ КУПИТЬ\\nФРАНЧАЙЗИНГ\\nКОНТАКТЫ\\nРегистрация и вход\\nНАЙТИ\\nКрагморта\\nПродолжительность игры:\\nот 20 до 40 минут\\nКоличество игроков:\\n2-8 человек\\n8+\\nВозрастные ограничения:\\n8 лет и старше\\nRUSSIAN_LANGUAGE\\nЯзык:\\nРусский\\nПроизводитель:\\nHobby World\\nДля детей от 6 до 10 летЛучшие настольные игры-страшилкиИгры в дорогуСемейные игрыНастольные игры для всей семьиНастольные игры с кубиками и фишками\\n1 490 руб.\\nКУПИТЬ НА HOBBY GAMES\\nХитрые и скрытные гоблины! Думаете, вам удастся избежать гнева Ригора Мортиса и разжиться пыльными книгами запретного знания из его библиотеки? Бойтесь испепеляющих взоров Тёмного Властелина! Трепещите от одной мысли о его ужасающих заклинаниях!\\nТерпение великого архимага лучше не испытывать. Если ты слышишь приближающиеся шаги сердитого хозяина, а скрыться негде, вытолкни вперёд своего товарища — пусть накажут его! Ты же не хочешь, чтобы у тебя руки отсохли?\\nВот все говорят, что гоблины тупые. Не верь! Есть способ доказать, что это не так. Надо только набраться храбрости и вломиться в личную библиотеку Ригора Мортиса. Раздобудь себе умных книжек! Только поосторожней там: не попадайся на глаза старому хозяину. Ведь его проклятье падёт вовсе не на гоблина, а прямо на тебя — будешь потом игру доигрывать, высунув язык и стоя на одной ноге! \\n\"Крагморта\" – это устрашающе-разухабистая настольная игра для компании от 2 до 8 гоблинов.\\n Комплектация\\nСам Ригор Мортис, Грандиозный и Устрашающий Архимаг – 1 персона\\n1 Библиотека Ригора Мортиса\\n1 рабочий стол\\n8 Гоблинов разных цветов\\n8 жетонов Гоблинов разных цветов\\n6 жетонов Телепортов\\n6 книжных полок\\n24 карты Испепеляющего Взора\\n58 карт Движения\\n18 карт Книг Магии\\nПравила игры\\n  Размер коробки: 277х194х67 мм\\nРазмер карт: 63x88 мм \\nПравила игры\\npdf Правила игры \"Крагморта\"\\nОбзоры игры (4 видео)\\nПОСМОТРЕТЬ ВСЕ\\nКомментарии (1)\\nВам необходимо авторизоваться, чтобы оставить свой комментарий.\\nВОЙТИ\\nМарк 18.03.2015 22:39\\nЕсли вы не прочь сделать подлянку своим друзьям ради победы, то игра определенно вам понравится. \"Скандалы интриги расследования\", а ещё проклятия(весь фан в них) ну и темный владыка). Игра простая и этим подкупает. Самое то чтобы, расслабиться между колонизаторами или престолами.\\nРекомендуем\\nCatan. Быстрая карточная игра\\n2-4\\n30-30\\n8+\\nлет\\n990 руб.\\nДобавлено в корзину\\nCatan. Быстрая карточная игра\\nОФОРМИТЬ\\nSimilo: Сказки\\n2+\\n10-10\\n8+\\nлет\\n490 руб.\\nДобавлено в корзину\\nSimilo: Сказки\\nОФОРМИТЬ\\nПодводные города: Новые открытия\\n1-4\\n40+\\n12+\\nлет\\n3 290 руб.\\nДобавлено в корзину\\nПодводные города: Новые открытия\\nОФОРМИТЬ\\nЭверделл: Жемчужный ручей. Делюкс\\n1-4\\n60-90\\n10+\\nлет\\n5 990 руб.\\nДобавлено в корзину\\nЭверделл: Жемчужный ручей. Делюкс\\nОФОРМИТЬ\\nПрогулки с собаками\\n1-4\\n40-80\\n10+\\nлет\\n4 490 руб.\\nДобавлено в корзину\\nПрогулки с собаками\\nОФОРМИТЬ\\nГарри Поттер: Оборотное зелье\\n2-7\\n20-30\\n6+\\nлет\\n790 руб.\\nДобавлено в корзину\\nГарри Поттер: Оборотное зелье\\nОФОРМИТЬ\\nЧубрики\\n2-5\\n2-5\\n3+\\nлет\\n1 490 руб.\\nДобавлено в корзину\\nЧубрики\\nОФОРМИТЬ\\nМанчкин: Драконы\\n3-6\\n30+\\n12+\\nлет\\n390 руб.\\nДобавлено в корзину\\nМанчкин: Драконы\\nОФОРМИТЬ\\nCatan: Города и рыцари (2018)\\n3-4\\n120+\\n12+\\nлет\\n3 990 руб.\\nДобавлено в корзину\\nCatan: Города и рыцари (2018)\\nОФОРМИТЬ\\nКомикс-игра \"Оборотень\"\\n1+\\n18+\\nлет\\n990 руб.\\nДобавлено в корзину\\nКомикс-игра \"Оборотень\"\\nОФОРМИТЬ\\nКаркассон: Холмы и овцы\\n2-6\\n40+\\n7+\\nлет\\n990 руб.\\nДобавлено в корзину\\nКаркассон: Холмы и овцы\\nОФОРМИТЬ\\nВзрывные котята: Рецепты котострофы\\n2-5\\n15-15\\n10+\\nлет\\n2 490 руб.\\nДобавлено в корзину\\nВзрывные котята: Рецепты котострофы\\nОФОРМИТЬ\\nВампирский Манчкин\\n3-6\\n30+\\n10+\\nлет\\n1 290 руб.\\nДобавлено в корзину\\nВампирский Манчкин\\nОФОРМИТЬ\\nМоджи. Эпидемия\\n2-6\\n5+\\n6+\\nлет\\n290 руб.\\nДобавлено в корзину\\nМоджи. Эпидемия\\nОФОРМИТЬ\\nFluxx: В Стране чудес\\n2-6\\n15-30\\n8+\\nлет\\n790 руб.\\nДобавлено в корзину\\nFluxx: В Стране чудес\\nОФОРМИТЬ\\nПерекати-слово\\n2-12\\n20-20\\n8+\\nлет\\n1 490 руб.\\nДобавлено в корзину\\nПерекати-слово\\nОФОРМИТЬ\\nБобик или бублик?\\n2-6\\n15-15\\n7+\\nлет\\n1 290 руб.\\nДобавлено в корзину\\nБобик или бублик?\\nОФОРМИТЬ\\n3000 негодяев\\n2-4\\n60-90\\n12+\\nлет\\n4 490 руб.\\nДобавлено в корзину\\n3000 негодяев\\nОФОРМИТЬ\\nИграть интересно\\nКАТАЛОГ ИГР\\nНастольные\\nККИ\\nАксессуары и книги\\nСувениры\\nНРИ\\nИЗДАТЕЛЬСТВО\\nГде купить\\nГде поиграть\\nКорпоративные\\nподарки\\nСотрудничество\\nЛица\\nПресса о нас\\nНовости\\nФранчайзинг\\nКОНТАКТЫ\\nПолитика\\nконфидециальности\\nПубличная оферта\\nРекламации\\nПо вопросам издательства:\\n+7 (495) 984-53-83\\nПо вопросам оптовых заказов:\\nПодробнее\\n105005, Москва, ул. Бауманская д. 11 стр. 8\\nHOBBY WORLD © 2015 - 2024'])\n"
     ]
    }
   ],
   "source": [
    "# смотрим полученный результат\n",
    "print(*[(k,v) for (k,v) in result.items()], sep=\"\\n\")"
   ]
  },
  {
   "cell_type": "code",
   "execution_count": null,
   "metadata": {},
   "outputs": [],
   "source": []
  },
  {
   "cell_type": "code",
   "execution_count": null,
   "metadata": {},
   "outputs": [],
   "source": []
  },
  {
   "cell_type": "code",
   "execution_count": null,
   "metadata": {},
   "outputs": [],
   "source": []
  },
  {
   "cell_type": "markdown",
   "metadata": {},
   "source": [
    "ЧЕРНОВИК!!!"
   ]
  },
  {
   "cell_type": "code",
   "execution_count": null,
   "metadata": {},
   "outputs": [],
   "source": [
    "# with webdriver.Chrome(service=ChromiumService(ChromeDriverManager().install())) as driver:\n",
    "#     driver.get(start_html)\n",
    "#     try:\n",
    "#         df_1, df_1_rows = parse_part_df(driver, df_page_index=1)\n",
    "#     except ValueError as e:\n",
    "#         print(f\"{e} Probably no tables found\")\n",
    "#     try:\n",
    "#         df_2, df_2_rows = parse_part_df(driver, df_page_index=2)\n",
    "#     except ValueError as e:\n",
    "#         print(f\"{e} Probably no tables found\")\n",
    "#     try:\n",
    "#         df_3, df_3_rows = parse_part_df(driver, df_page_index=3)\n",
    "#     except ValueError as e:\n",
    "#         print(f\"{e} Probably no tables found\")\n",
    "#     try:\n",
    "#         df_0, df_0_rows = parse_part_df(driver, df_page_index=0)\n",
    "#     except ValueError as e:\n",
    "#         print(f\"{e} Probably no tables found\")\n",
    "#     df_2, df_2_rows = parse_part_df(driver, df_page_index=2)\n",
    "#     df_3, df_3_rows = parse_part_df(driver, df_page_index=3)"
   ]
  },
  {
   "cell_type": "code",
   "execution_count": 23,
   "metadata": {},
   "outputs": [],
   "source": [
    "# xpath_elem = \"/html/body/div[1]/section[2]/div/div[1]/section/div[2]/div[2]/div/div[1]/p/span/text()\""
   ]
  },
  {
   "cell_type": "code",
   "execution_count": null,
   "metadata": {},
   "outputs": [],
   "source": [
    "# %%time\n",
    "# start_html = \"https://hobbyworld.ru/kragmorta\"\n",
    "# browser_path = r'C:\\Program Files\\Google\\Chrome\\Application\\chrome.exe'\n",
    "# chrome_driver_path = r\"C:\\ChromeDriver\\chromedriver.exe\"\n",
    "# # driver = get_browser(browser_full_path=browser_path,\n",
    "# #            driver_full_path=chrome_driver_path)\n",
    "# # input('Для закрытия браузера жмакаем Enter!')\n",
    "# with webdriver.Chrome(service=ChromiumService(ChromeDriverManager().install())) as driver:\n",
    "#     driver.get(start_html)\n",
    "# #     el_xpath = get_element_by_xpath(driver=driver, xpath=xpath_elem)\n",
    "# #     try:\n",
    "# #         print(el_xpath.text)\n",
    "# #     except:\n",
    "# #         print(el_path)\n",
    "#     element = driver.find_element(By.CSS_SELECTOR, \".product-resume .time p span\")\n",
    "# #     page_source = driver.get_source()\n",
    "# #     print(page_source)\n",
    "# #     element = driver.find_element_by_css_selector('.product-resume .time p span')\n",
    "#     print(element.text)\n",
    "# #     print(element)\n",
    "#     input()"
   ]
  },
  {
   "cell_type": "code",
   "execution_count": 7,
   "metadata": {},
   "outputs": [],
   "source": [
    "# /html/body/div[1]/section[2]/div/div[1]/section/div[2]/div[2]/div/div[1]/p/span/text()"
   ]
  },
  {
   "cell_type": "code",
   "execution_count": null,
   "metadata": {},
   "outputs": [],
   "source": [
    "# element = driver.find_element_by_css_selector('.product-resume .time p span')"
   ]
  }
 ],
 "metadata": {
  "kernelspec": {
   "display_name": "Python 3",
   "language": "python",
   "name": "python3"
  },
  "language_info": {
   "codemirror_mode": {
    "name": "ipython",
    "version": 3
   },
   "file_extension": ".py",
   "mimetype": "text/x-python",
   "name": "python",
   "nbconvert_exporter": "python",
   "pygments_lexer": "ipython3",
   "version": "3.8.3"
  }
 },
 "nbformat": 4,
 "nbformat_minor": 4
}
